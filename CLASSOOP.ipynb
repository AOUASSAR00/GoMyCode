{
 "cells": [
  {
   "cell_type": "code",
   "execution_count": 10,
   "id": "3c541395",
   "metadata": {},
   "outputs": [
    {
     "name": "stdout",
     "output_type": "stream",
     "text": [
      "Blu is a bird\n",
      "Woo is also a bird\n",
      "Blu is 10 years old\n",
      "Woo is 15 years old\n"
     ]
    },
    {
     "ename": "NameError",
     "evalue": "name 'parrot' is not defined",
     "output_type": "error",
     "traceback": [
      "\u001b[1;31m---------------------------------------------------------------------------\u001b[0m",
      "\u001b[1;31mNameError\u001b[0m                                 Traceback (most recent call last)",
      "Input \u001b[1;32mIn [10]\u001b[0m, in \u001b[0;36m<cell line: 41>\u001b[1;34m()\u001b[0m\n\u001b[0;32m     38\u001b[0m \u001b[38;5;28mprint\u001b[39m(\u001b[38;5;124m\"\u001b[39m\u001b[38;5;132;01m{}\u001b[39;00m\u001b[38;5;124m is \u001b[39m\u001b[38;5;132;01m{}\u001b[39;00m\u001b[38;5;124m years old\u001b[39m\u001b[38;5;124m\"\u001b[39m\u001b[38;5;241m.\u001b[39mformat( blu\u001b[38;5;241m.\u001b[39mname, blu\u001b[38;5;241m.\u001b[39mage)) \n\u001b[0;32m     39\u001b[0m \u001b[38;5;28mprint\u001b[39m(\u001b[38;5;124m\"\u001b[39m\u001b[38;5;132;01m{}\u001b[39;00m\u001b[38;5;124m is \u001b[39m\u001b[38;5;132;01m{}\u001b[39;00m\u001b[38;5;124m years old\u001b[39m\u001b[38;5;124m\"\u001b[39m\u001b[38;5;241m.\u001b[39mformat( woo\u001b[38;5;241m.\u001b[39mname, woo\u001b[38;5;241m.\u001b[39mage)) \n\u001b[1;32m---> 41\u001b[0m \u001b[43mparrot\u001b[49m()\n",
      "\u001b[1;31mNameError\u001b[0m: name 'parrot' is not defined"
     ]
    }
   ],
   "source": [
    "#pls check the exercices dtarting from #number1\n",
    "\n",
    "\n",
    "\n",
    "#we created a class with the name Parrot.\n",
    "class Parrot: \n",
    "    \n",
    "    # class attribute\n",
    "    #Then, we defined its attributes.\n",
    "    species = \"bird\" \n",
    " \n",
    "    # instance attribut\n",
    "    #The attributes are the characteristics of an object.\n",
    "    #These attributes are defined inside the init method of the class.\n",
    "    #It is the initializer method that is first run as soon as the object is created. \n",
    "    #The __init__ method is the Python equivalent of the C++ constructor in an object-oriented approach. \n",
    "    #The __init__  function is called every time an object is created from a class. \n",
    "    #The __init__ method lets the class initialize the object’s attributes and serves no other purpose.\n",
    "    #It is only used within classes. \n",
    "    def __init__(self, name, age): \n",
    "    #def __init__(self,xxx,xxxx):\n",
    "        self.name = name \n",
    "        self.age = age \n",
    "        \n",
    "        \n",
    "        \n",
    "# instantiate the Parrot clas        \n",
    "#Then, we create instances of the Parrot class.\n",
    "#Here, blu and woo are references (value) to our new objects. \n",
    "blu = Parrot(\"Blu\", 10) \n",
    "woo = Parrot(\"Woo\", 15) \n",
    "\n",
    "\n",
    "# access the class attributes \n",
    "#We can access the class attribute using class.species. \n",
    "#Class attributes are the same for all instances of a class.\n",
    "#Similarly, we can access the instance attributes using blu.name and blu.age.  \n",
    "print(\"Blu is a {}\".format(blu.__class__.species)) \n",
    "print(\"Woo is also a {}\".format(woo.__class__.species)) \n",
    " \n",
    "# access the instance attributes \n",
    "print(\"{} is {} years old\".format( blu.name, blu.age)) \n",
    "print(\"{} is {} years old\".format( woo.name, woo.age)) \n",
    "\n",
    "parrot() "
   ]
  },
  {
   "cell_type": "code",
   "execution_count": 2,
   "id": "fa4d38e7",
   "metadata": {},
   "outputs": [
    {
     "name": "stdout",
     "output_type": "stream",
     "text": [
      "Blu sings 'Happy'\n",
      "Blu is now dancing\n"
     ]
    }
   ],
   "source": [
    "class Parrot: \n",
    "     \n",
    "    # instance attributes \n",
    "    def __init__(self, name, age): \n",
    "        self.name = name \n",
    "        self.age = age \n",
    "     \n",
    "    # instance method \n",
    "    def sing(self, song): \n",
    "        return \"{} sings {}\".format(self.name, song) \n",
    " \n",
    "    def dance(self): \n",
    "        return \"{} is now dancing\".format(self.name) \n",
    " \n",
    "# instantiate the object \n",
    "blu = Parrot(\"Blu\", 10) \n",
    " \n",
    "# call our instance methods \n",
    "print(blu.sing(\"'Happy'\")) \n",
    "print(blu.dance())  "
   ]
  },
  {
   "cell_type": "code",
   "execution_count": 6,
   "id": "0b1c9502",
   "metadata": {},
   "outputs": [
    {
     "name": "stdout",
     "output_type": "stream",
     "text": [
      "Bird is ready\n",
      "Penguin is ready\n",
      "Penguin\n"
     ]
    },
    {
     "ename": "AttributeError",
     "evalue": "'Penguin' object has no attribute 'swim'",
     "output_type": "error",
     "traceback": [
      "\u001b[1;31m---------------------------------------------------------------------------\u001b[0m",
      "\u001b[1;31mAttributeError\u001b[0m                            Traceback (most recent call last)",
      "Input \u001b[1;32mIn [6]\u001b[0m, in \u001b[0;36m<cell line: 28>\u001b[1;34m()\u001b[0m\n\u001b[0;32m     26\u001b[0m peggy \u001b[38;5;241m=\u001b[39m Penguin() \n\u001b[0;32m     27\u001b[0m peggy\u001b[38;5;241m.\u001b[39mwhoisThis() \n\u001b[1;32m---> 28\u001b[0m \u001b[43mpeggy\u001b[49m\u001b[38;5;241;43m.\u001b[39;49m\u001b[43mswim\u001b[49m() \n\u001b[0;32m     29\u001b[0m peggy\u001b[38;5;241m.\u001b[39mrun()\n",
      "\u001b[1;31mAttributeError\u001b[0m: 'Penguin' object has no attribute 'swim'"
     ]
    }
   ],
   "source": [
    "\n",
    "class Bird: \n",
    "     \n",
    "    def __init__(self): \n",
    "        print(\"Bird is ready\") \n",
    " \n",
    "    def whoisThis(self): \n",
    "        print(\"Bird\") \n",
    " \n",
    " \n",
    "def swim(self): \n",
    "    print(\"Swim faster\") \n",
    " \n",
    " \n",
    "class Penguin(Bird): \n",
    " \n",
    "    def __init__(self): \n",
    "        super().__init__() \n",
    "        print(\"Penguin is ready\") \n",
    " \n",
    "    def whoisThis(self): \n",
    "        print(\"Penguin\") \n",
    " \n",
    "    def run(self): \n",
    "        print(\"Run faster\") \n",
    " \n",
    "peggy = Penguin() \n",
    "peggy.whoisThis() \n",
    "peggy.swim() \n",
    "peggy.run() "
   ]
  },
  {
   "cell_type": "code",
   "execution_count": 9,
   "id": "a10d4fb0",
   "metadata": {},
   "outputs": [
    {
     "name": "stdout",
     "output_type": "stream",
     "text": [
      "Bird is ready\n",
      "Penguin is ready\n",
      "Penguin\n"
     ]
    },
    {
     "ename": "AttributeError",
     "evalue": "'Penguin' object has no attribute 'swim'",
     "output_type": "error",
     "traceback": [
      "\u001b[1;31m---------------------------------------------------------------------------\u001b[0m",
      "\u001b[1;31mAttributeError\u001b[0m                            Traceback (most recent call last)",
      "Input \u001b[1;32mIn [9]\u001b[0m, in \u001b[0;36m<cell line: 29>\u001b[1;34m()\u001b[0m\n\u001b[0;32m     27\u001b[0m     peggy \u001b[38;5;241m=\u001b[39m Penguin() \n\u001b[0;32m     28\u001b[0m peggy\u001b[38;5;241m.\u001b[39mwhoisThis() \n\u001b[1;32m---> 29\u001b[0m \u001b[43mpeggy\u001b[49m\u001b[38;5;241;43m.\u001b[39;49m\u001b[43mswim\u001b[49m() \n\u001b[0;32m     30\u001b[0m peggy\u001b[38;5;241m.\u001b[39mrun()\n",
      "\u001b[1;31mAttributeError\u001b[0m: 'Penguin' object has no attribute 'swim'"
     ]
    }
   ],
   "source": [
    "# parent class \n",
    "class Bird: \n",
    "     \n",
    "    def __init__(self): \n",
    "        print(\"Bird is ready\") \n",
    " \n",
    "    def whoisThis(self): \n",
    "        print(\"Bird\") \n",
    " \n",
    " \n",
    "def swim(self): \n",
    "    print(\"Swim faster\") \n",
    " \n",
    "# child class \n",
    "class Penguin(Bird): \n",
    " \n",
    "    def __init__(self):  \n",
    "        super().__init__() \n",
    "        print(\"Penguin is ready\") \n",
    " \n",
    "    def whoisThis(self): \n",
    "        print(\"Penguin\") \n",
    " \n",
    "    def run(self): \n",
    "        print(\"Run faster\") \n",
    " \n",
    "    peggy = Penguin() \n",
    "peggy.whoisThis() \n",
    "peggy.swim() \n",
    "peggy.run() "
   ]
  },
  {
   "cell_type": "code",
   "execution_count": 1,
   "id": "646539e4",
   "metadata": {},
   "outputs": [],
   "source": [
    "#EX:\n",
    "#Write a Python class named Point3D defined by x, y, and z.\n",
    "#Define a method that returns (x, y ,z).\n",
    "#This tells Python to represent this object in the following format: (x, y, z).\n",
    "#Then create a variable named my_point containing a new instance of Point3D with x=1, y=2, and z=3 and print it.\n",
    "class Point3D:\n",
    "    def __init__(self,x,y,z):\n",
    "        self.x = x\n",
    "        self.y= y\n",
    "        self.z= Z\n",
    "        \n",
    "        \n",
    "        \n",
    "        return Point3D\n",
    "\n",
    "\n",
    "\n",
    "\n",
    "\n",
    "\n",
    "#Write a Python class named Rectangle constructed by a length and width. Define two methods, area and perimeter, which will compute the area and the perimeter of the rectangle. Then create a variable named my_rectangle containing a new instance of Rectangle with width=3 and length = 4 and compute both area and perimeter ( the area is expected to be 3*4=12 and perimeter 2*(3+4)=14).\n",
    "#Write a Python  class named Circle constructed by its center O and radius r. Define two methods, area and perimeter, which will compute the area and the perimeter of the circle, and is Inside() method which allows you to test whether a point A(x, y) belongs to the circle C(O, r) or not.\n",
    "#Suppose we want to model a bank account with support for deposit and withdraw operations. Let’s create a Python class named Bank defined by its balance. Define two methods, deposit and withdraw, to compute the new amount of each operation."
   ]
  },
  {
   "cell_type": "code",
   "execution_count": 2,
   "id": "8f93b5a7",
   "metadata": {},
   "outputs": [
    {
     "name": "stdout",
     "output_type": "stream",
     "text": [
      "(1, 2, 3)\n"
     ]
    }
   ],
   "source": [
    "#number1\n",
    "\n",
    "class Point3D(object):\n",
    "    def __init__(self, x, y, z):\n",
    "        self.x = x\n",
    "        self.y = y\n",
    "        self.z = z\n",
    "    def __repr__(self):\n",
    "        return \"(%d, %d, %d)\" % (self.x, self.y, self.z)\n",
    "        \n",
    "my_point = Point3D(1,2,3)\n",
    "\n",
    "print(my_point)"
   ]
  },
  {
   "cell_type": "code",
   "execution_count": 3,
   "id": "a5068c5b",
   "metadata": {},
   "outputs": [
    {
     "name": "stdout",
     "output_type": "stream",
     "text": [
      "12\n",
      "14\n"
     ]
    }
   ],
   "source": [
    "#number2\n",
    "class Rectangle():\n",
    "    def __init__(self, l, w):\n",
    "        self.length = l\n",
    "        self.width  = w\n",
    "\n",
    "    def rectangle_area(self):\n",
    "        return self.length*self.width\n",
    "    \n",
    "    def rectangle_perimeter(self):\n",
    "        return 2*(self.length + self.width)\n",
    "\n",
    "newRectangle = Rectangle(3, 4)\n",
    "print(newRectangle.rectangle_area())\n",
    "print(newRectangle.rectangle_perimeter())"
   ]
  },
  {
   "cell_type": "code",
   "execution_count": 6,
   "id": "314c63b6",
   "metadata": {},
   "outputs": [
    {
     "ename": "SyntaxError",
     "evalue": "invalid syntax (2894903680.py, line 15)",
     "output_type": "error",
     "traceback": [
      "\u001b[1;36m  Input \u001b[1;32mIn [6]\u001b[1;36m\u001b[0m\n\u001b[1;33m    elif A == perimeter\u001b[0m\n\u001b[1;37m                       ^\u001b[0m\n\u001b[1;31mSyntaxError\u001b[0m\u001b[1;31m:\u001b[0m invalid syntax\n"
     ]
    }
   ],
   "source": [
    "#number3\n",
    "class Circle():\n",
    "    def __init__(self, r):\n",
    "        self.radius = r\n",
    "\n",
    "    def area(self):\n",
    "        return self.radius**2*3.14\n",
    "    \n",
    "    def perimeter(self):\n",
    "        return 2*self.radius*3.14\n",
    "\n",
    "        if A < perimeter:\n",
    "              return(True)\n",
    "\n",
    "        elif A == perimeter\n",
    "            return(True)\n",
    "\n",
    "        else:\n",
    "              return(False)\n",
    "          \n",
    "\n",
    "    NewCircle = Circle(8)\n",
    "A = 3\n",
    "print(NewCircle.area())\n",
    "print(NewCircle.perimeter())"
   ]
  },
  {
   "cell_type": "code",
   "execution_count": null,
   "id": "4b0a7928",
   "metadata": {},
   "outputs": [
    {
     "name": "stdout",
     "output_type": "stream",
     "text": [
      "Hello!!! Welcome to the Deposit & Withdrawal Machine\n"
     ]
    }
   ],
   "source": [
    "#number4\n",
    "class Bank_Account:\n",
    "    def __init__(self):\n",
    "        self.balance=0\n",
    "        print(\"Hello!!! Welcome to the Deposit & Withdrawal Machine\")\n",
    " \n",
    "    def deposit(self):\n",
    "        amount=float(input(\"Enter amount to be Deposited: \"))\n",
    "        self.balance += amount\n",
    "        print(\"Amount Deposited:\",amount)\n",
    " \n",
    "    def withdraw(self):\n",
    "        amount = float(input(\"Enter amount to be Withdrawn: \"))\n",
    "        if self.balance>=amount:\n",
    "            self.balance-=amount\n",
    "            print(\" You Withdrew:\", amount)\n",
    "        else:\n",
    "            print(\" Insufficient balance  \")\n",
    " \n",
    "    def display(self):\n",
    "        print(\" Net Available Balance=\",self.balance)\n",
    " \n",
    "\n",
    "s = Bank_Account()\n",
    "s.deposit()\n",
    "s.withdraw()\n",
    "s.display()"
   ]
  },
  {
   "cell_type": "code",
   "execution_count": null,
   "id": "e44d74ee",
   "metadata": {},
   "outputs": [],
   "source": []
  }
 ],
 "metadata": {
  "kernelspec": {
   "display_name": "Python 3 (ipykernel)",
   "language": "python",
   "name": "python3"
  },
  "language_info": {
   "codemirror_mode": {
    "name": "ipython",
    "version": 3
   },
   "file_extension": ".py",
   "mimetype": "text/x-python",
   "name": "python",
   "nbconvert_exporter": "python",
   "pygments_lexer": "ipython3",
   "version": "3.9.12"
  }
 },
 "nbformat": 4,
 "nbformat_minor": 5
}
