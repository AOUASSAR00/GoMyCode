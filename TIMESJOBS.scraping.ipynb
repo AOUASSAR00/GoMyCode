{
 "cells": [
  {
   "cell_type": "code",
   "execution_count": 8,
   "id": "6058d0b3",
   "metadata": {},
   "outputs": [
    {
     "name": "stdout",
     "output_type": "stream",
     "text": [
      "Requirement already satisfied: beautifulsoup4 in c:\\users\\warda\\anaconda3\\lib\\site-packages (4.11.1)Note: you may need to restart the kernel to use updated packages.\n",
      "\n",
      "Requirement already satisfied: soupsieve>1.2 in c:\\users\\warda\\anaconda3\\lib\\site-packages (from beautifulsoup4) (2.3.1)\n"
     ]
    }
   ],
   "source": [
    "pip install beautifulsoup4"
   ]
  },
  {
   "cell_type": "code",
   "execution_count": 9,
   "id": "cf4b41ec",
   "metadata": {
    "scrolled": true
   },
   "outputs": [
    {
     "name": "stdout",
     "output_type": "stream",
     "text": [
      "Requirement already satisfied: requests in c:\\users\\warda\\anaconda3\\lib\\site-packages (2.27.1)Note: you may need to restart the kernel to use updated packages.\n",
      "\n",
      "Requirement already satisfied: certifi>=2017.4.17 in c:\\users\\warda\\anaconda3\\lib\\site-packages (from requests) (2021.10.8)\n",
      "Requirement already satisfied: idna<4,>=2.5 in c:\\users\\warda\\anaconda3\\lib\\site-packages (from requests) (3.3)\n",
      "Requirement already satisfied: charset-normalizer~=2.0.0 in c:\\users\\warda\\anaconda3\\lib\\site-packages (from requests) (2.0.4)\n",
      "Requirement already satisfied: urllib3<1.27,>=1.21.1 in c:\\users\\warda\\anaconda3\\lib\\site-packages (from requests) (1.26.9)\n"
     ]
    }
   ],
   "source": [
    "pip install requests"
   ]
  },
  {
   "cell_type": "code",
   "execution_count": 5,
   "id": "043c1067",
   "metadata": {},
   "outputs": [
    {
     "name": "stdout",
     "output_type": "stream",
     "text": [
      "\n",
      "        Company Name: \r\n",
      "PureTechCodexPrivateLimited\r\n",
      "\r\n",
      "\n",
      "        Required Skills: \r\n",
      "\r\n",
      "rest,python,database,django,debugging,mongodb\r\n",
      "\r\n",
      "\n",
      "        \n",
      "\n",
      "\n",
      "        Company Name: \r\n",
      "SuryaInformaticsSolutionsPvt.Ltd.\r\n",
      "\r\n",
      "\n",
      "        Required Skills: \n",
      "python,webtechnologies,linux,mobile,mysql,angularjs,javascript\r\n",
      "\r\n",
      "\n",
      "        \n",
      "\n",
      "\n",
      "        Company Name: \r\n",
      "GeminiSolutions\r\n",
      "\r\n",
      "\n",
      "        Required Skills: \n",
      "python,mobile,svn,nosql,pythonscripting,git,api,sqldatabase\r\n",
      "\r\n",
      "\n",
      "        \n",
      "\n",
      "\n",
      "        Company Name: \r\n",
      "hkinfosoft\r\n",
      "\r\n",
      "\n",
      "        Required Skills: \n",
      "python,django,,framework\r\n",
      "\r\n",
      "\n",
      "        \n",
      "\n",
      "\n",
      "        Company Name: \r\n",
      "TandAHRSolutions\r\n",
      "\r\n",
      "\n",
      "        Required Skills: \n",
      "python,django,sql\r\n",
      "\r\n",
      "\n",
      "        \n",
      "\n",
      "\n",
      "        Company Name: \r\n",
      "LAKSHHUMANRESOURCE\r\n",
      "\r\n",
      "\n",
      "        Required Skills: \r\n",
      "\r\n",
      "rest,python,django,git\r\n",
      "\r\n",
      "\n",
      "        \n",
      "\n",
      "\n",
      "        Company Name: \r\n",
      "TandAHRSolutions\r\n",
      "\r\n",
      "\n",
      "        Required Skills: \n",
      "python,git,django\r\n",
      "\r\n",
      "\n",
      "        \n",
      "\n",
      "\n",
      "        Company Name: \r\n",
      "brickred(3pillarglobal)\r\n",
      "\r\n",
      "\n",
      "        Required Skills: \r\n",
      "\r\n",
      "softwareproducts,Python,DynamoDB\r\n",
      "\r\n",
      "\n",
      "        \n",
      "\n",
      "\n",
      "        Company Name: \r\n",
      "BRICKREDTECHNOLOGIESPVT.LTD.\r\n",
      "\r\n",
      "\n",
      "        Required Skills: \r\n",
      "\r\n",
      "imageprocessing,python,opencv\r\n",
      "\r\n",
      "\n",
      "        \n",
      "\n",
      "\n",
      "        Company Name: \r\n",
      "BRICKREDTECHNOLOGIESPVT.LTD.\r\n",
      "\r\n",
      "\n",
      "        Required Skills: \r\n",
      "\r\n",
      "imageprocessing,python,opencv\r\n",
      "\r\n",
      "\n",
      "        \n",
      "\n",
      "\n",
      "        Company Name: \r\n",
      "BRICKREDTECHNOLOGIESPVT.LTD.\r\n",
      "\r\n",
      "\n",
      "        Required Skills: \r\n",
      "\r\n",
      "imageprocessing,python,opencv\r\n",
      "\r\n",
      "\n",
      "        \n",
      "\n",
      "\n",
      "        Company Name: \r\n",
      "PerfiosSoftwareSolutionsPvt.Ltd.\r\n",
      "\r\n",
      "\n",
      "        Required Skills: \n",
      "python,java,scala\r\n",
      "\r\n",
      "\n",
      "        \n",
      "\n",
      "\n",
      "        Company Name: \r\n",
      "JobsLoConsultants\r\n",
      "\r\n",
      "\n",
      "        Required Skills: \n",
      "python,linux,windows,sql\r\n",
      "\r\n",
      "\n",
      "        \n",
      "\n",
      "\n",
      "        Company Name: \r\n",
      "TandAHRSolutions\r\n",
      "\r\n",
      "\n",
      "        Required Skills: \n",
      "python,git,django\r\n",
      "\r\n",
      "\n",
      "        \n",
      "\n",
      "\n",
      "        Company Name: \r\n",
      "AtoZInfowayLLP\r\n",
      "\r\n",
      "\n",
      "        Required Skills: \n",
      "python,django,html5,javascript\r\n",
      "\r\n",
      "\n",
      "        \n",
      "\n",
      "\n",
      "        Company Name: \r\n",
      "APPLYCUPHIRINGSOLUTIONSLLP\r\n",
      "\r\n",
      "\n",
      "        Required Skills: \n",
      "python,django,html5,javascript\r\n",
      "\r\n",
      "\n",
      "        \n",
      "\n",
      "\n",
      "        Company Name: \r\n",
      "APPLYCUPHIRINGSOLUTIONSLLP\r\n",
      "\r\n",
      "\n",
      "        Required Skills: \n",
      "python,django,html5,javascript\r\n",
      "\r\n",
      "\n",
      "        \n",
      "\n"
     ]
    }
   ],
   "source": [
    "from bs4 import BeautifulSoup\n",
    "import requests\n",
    "html_text = requests.get('https://www.timesjobs.com/candidate/job-search.html?searchType=personalizedSearch&from=submit&txtKeywords=python&txtLocation=').text\n",
    "soup = BeautifulSoup(html_text, 'lxml')\n",
    "jobs = soup.find_all('li', class_ = 'clearfix job-bx wht-shd-bx')\n",
    "for job in jobs:\n",
    "    published_date = job.find('span' , class_ ='sim-posted').span.text\n",
    "    if '6' in published_date:\n",
    "        company_name = job.find('h3' , class_ = 'joblist-comp-name').text.replace(' ','')\n",
    "        skills = job.find('span' , class_ = 'srp-skills').text.replace(' ','')\n",
    "\n",
    "        \n",
    "\n",
    "        print(f'''\n",
    "        Company Name: {company_name}\n",
    "        Required Skills: {skills}\n",
    "        ''')\n",
    "\n",
    "        print('')\n"
   ]
  },
  {
   "cell_type": "code",
   "execution_count": 7,
   "id": "e7a23302",
   "metadata": {},
   "outputs": [
    {
     "name": "stdout",
     "output_type": "stream",
     "text": [
      "Requirement already satisfied: beautifulsoup4 in c:\\users\\warda\\anaconda3\\lib\\site-packages (4.11.1)\n",
      "Requirement already satisfied: soupsieve>1.2 in c:\\users\\warda\\anaconda3\\lib\\site-packages (from beautifulsoup4) (2.3.1)\n",
      "Note: you may need to restart the kernel to use updated packages.\n"
     ]
    }
   ],
   "source": [
    "pip install beautifulsoup4"
   ]
  },
  {
   "cell_type": "code",
   "execution_count": 8,
   "id": "4b9b3139",
   "metadata": {},
   "outputs": [
    {
     "name": "stdout",
     "output_type": "stream",
     "text": [
      "Requirement already satisfied: requests in c:\\users\\warda\\anaconda3\\lib\\site-packages (2.27.1)\n",
      "Note: you may need to restart the kernel to use updated packages.Requirement already satisfied: idna<4,>=2.5 in c:\\users\\warda\\anaconda3\\lib\\site-packages (from requests) (3.3)\n",
      "Requirement already satisfied: certifi>=2017.4.17 in c:\\users\\warda\\anaconda3\\lib\\site-packages (from requests) (2021.10.8)\n",
      "Requirement already satisfied: charset-normalizer~=2.0.0 in c:\\users\\warda\\anaconda3\\lib\\site-packages (from requests) (2.0.4)\n",
      "Requirement already satisfied: urllib3<1.27,>=1.21.1 in c:\\users\\warda\\anaconda3\\lib\\site-packages (from requests) (1.26.9)\n",
      "\n"
     ]
    }
   ],
   "source": [
    "pip install requests"
   ]
  },
  {
   "cell_type": "code",
   "execution_count": 9,
   "id": "73fa1be2",
   "metadata": {},
   "outputs": [
    {
     "ename": "AttributeError",
     "evalue": "'NoneType' object has no attribute 'span'",
     "output_type": "error",
     "traceback": [
      "\u001b[1;31m---------------------------------------------------------------------------\u001b[0m",
      "\u001b[1;31mAttributeError\u001b[0m                            Traceback (most recent call last)",
      "Input \u001b[1;32mIn [9]\u001b[0m, in \u001b[0;36m<cell line: 6>\u001b[1;34m()\u001b[0m\n\u001b[0;32m      5\u001b[0m cars \u001b[38;5;241m=\u001b[39m soup\u001b[38;5;241m.\u001b[39mfind_all(\u001b[38;5;124m'\u001b[39m\u001b[38;5;124mp\u001b[39m\u001b[38;5;124m'\u001b[39m, class_ \u001b[38;5;241m=\u001b[39m \u001b[38;5;124m'\u001b[39m\u001b[38;5;124msc-1x0vz2r-0 iEJWiq oan6tk-18 bhnuSP\u001b[39m\u001b[38;5;124m'\u001b[39m)\n\u001b[0;32m      6\u001b[0m \u001b[38;5;28;01mfor\u001b[39;00m car \u001b[38;5;129;01min\u001b[39;00m cars:\n\u001b[1;32m----> 7\u001b[0m     price \u001b[38;5;241m=\u001b[39m \u001b[43mcar\u001b[49m\u001b[38;5;241;43m.\u001b[39;49m\u001b[43mfind\u001b[49m\u001b[43m(\u001b[49m\u001b[38;5;124;43m'\u001b[39;49m\u001b[38;5;124;43mspan\u001b[39;49m\u001b[38;5;124;43m'\u001b[39;49m\u001b[43m \u001b[49m\u001b[43m,\u001b[49m\u001b[43m \u001b[49m\u001b[43mclass_\u001b[49m\u001b[43m \u001b[49m\u001b[38;5;241;43m=\u001b[39;49m\u001b[43m \u001b[49m\u001b[38;5;124;43m'\u001b[39;49m\u001b[38;5;124;43msc-1x0vz2r-0 izsKzL oan6tk-15 cdJtEx\u001b[39;49m\u001b[38;5;124;43m'\u001b[39;49m\u001b[43m)\u001b[49m\u001b[38;5;241;43m.\u001b[39;49m\u001b[43mspan\u001b[49m\u001b[38;5;241m.\u001b[39mtext\n\u001b[0;32m      8\u001b[0m     \u001b[38;5;28;01mif\u001b[39;00m \u001b[38;5;124m'\u001b[39m\u001b[38;5;124m3\u001b[39m\u001b[38;5;124m'\u001b[39m \u001b[38;5;129;01min\u001b[39;00m price:\n\u001b[0;32m      9\u001b[0m         car_type \u001b[38;5;241m=\u001b[39m car\u001b[38;5;241m.\u001b[39mfind(\u001b[38;5;124m'\u001b[39m\u001b[38;5;124mh3\u001b[39m\u001b[38;5;124m'\u001b[39m , class_ \u001b[38;5;241m=\u001b[39m \u001b[38;5;124m'\u001b[39m\u001b[38;5;124msc-1x0vz2r-0 ezkocc oan6tk-16 hlwSBL\u001b[39m\u001b[38;5;124m'\u001b[39m)\u001b[38;5;241m.\u001b[39mtext\u001b[38;5;241m.\u001b[39mreplace(\u001b[38;5;124m'\u001b[39m\u001b[38;5;124m \u001b[39m\u001b[38;5;124m'\u001b[39m,\u001b[38;5;124m'\u001b[39m\u001b[38;5;124m'\u001b[39m)\n",
      "\u001b[1;31mAttributeError\u001b[0m: 'NoneType' object has no attribute 'span'"
     ]
    }
   ],
   "source": [
    "from bs4 import BeautifulSoup\n",
    "import requests\n",
    "html_text = requests.get('https://www.avito.ma/fr/maroc/voiture--%C3%A0_vendre').text\n",
    "soup = BeautifulSoup(html_text, 'lxml')\n",
    "cars = soup.find_all('p', class_ = 'sc-1x0vz2r-0 iEJWiq oan6tk-18 bhnuSP')\n",
    "for car in cars:\n",
    "    price = car.find('span' , class_ = 'sc-1x0vz2r-0 izsKzL oan6tk-15 cdJtEx').span.text\n",
    "    if '3' in price:\n",
    "        car_type = car.find('h3' , class_ = 'sc-1x0vz2r-0 ezkocc oan6tk-16 hlwSBL').text.replace(' ','')\n",
    "        place = car.find('span' , class_ = 'sc-1x0vz2r-0 hCOOjL').text.replace(' ','')\n",
    "\n",
    "        \n",
    "\n",
    "        print(f'''\n",
    "        Car Type: {car_type}\n",
    "        Place: {place}\n",
    "        ''')\n",
    "\n",
    "        print('')\n"
   ]
  },
  {
   "cell_type": "code",
   "execution_count": null,
   "id": "bb364181",
   "metadata": {},
   "outputs": [],
   "source": []
  }
 ],
 "metadata": {
  "kernelspec": {
   "display_name": "Python 3 (ipykernel)",
   "language": "python",
   "name": "python3"
  },
  "language_info": {
   "codemirror_mode": {
    "name": "ipython",
    "version": 3
   },
   "file_extension": ".py",
   "mimetype": "text/x-python",
   "name": "python",
   "nbconvert_exporter": "python",
   "pygments_lexer": "ipython3",
   "version": "3.9.12"
  }
 },
 "nbformat": 4,
 "nbformat_minor": 5
}
