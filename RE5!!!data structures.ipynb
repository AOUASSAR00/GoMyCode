{
 "cells": [
  {
   "cell_type": "code",
   "execution_count": 1,
   "id": "f3002f2c",
   "metadata": {},
   "outputs": [
    {
     "name": "stdout",
     "output_type": "stream",
     "text": [
      "36\n"
     ]
    }
   ],
   "source": [
    "#ex1\n",
    "#GOOGLE QUESTION/\n",
    "#how to multiply all the items in a list\n",
    "list=[2,3,6]\n",
    "result=1\n",
    "for i in list:\n",
    "    result=result*i\n",
    "print(result)"
   ]
  },
  {
   "cell_type": "code",
   "execution_count": 13,
   "id": "8d383b12",
   "metadata": {},
   "outputs": [
    {
     "name": "stdout",
     "output_type": "stream",
     "text": [
      "Sorted:\n",
      "[(2, 1), (3, 2), (1, 3)]\n"
     ]
    }
   ],
   "source": [
    "#ex2\n",
    "#GOOGLE QUESTION/\n",
    "##what does return sorted(tuples, key=last) mean in coding\n",
    "#...\n",
    "#Take a list of tuples from the user.\n",
    "#Define a function that returns the last element of each tuple in the list of tuples.\n",
    "#Define another function with the previous function as the key and sort the list.\n",
    "#Print the sorted list.\n",
    "\n",
    "def last(n):\n",
    "    return n[1]\n",
    "#return n[-1]\n",
    "def sort(tuples):\n",
    "    return sorted(tuples, key=last)\n",
    "a=[(1, 3), (3, 2), (2, 1)]\n",
    "print(\"Sorted:\")\n",
    "print(sort(a))"
   ]
  },
  {
   "cell_type": "code",
   "execution_count": 12,
   "id": "1af71443",
   "metadata": {},
   "outputs": [
    {
     "name": "stdout",
     "output_type": "stream",
     "text": [
      "Sorted list: [(2, 1), (3, 2), (1, 3)]\n"
     ]
    }
   ],
   "source": [
    "#ex2\n",
    "#GOOGLE QUESTION/\n",
    "#sort function\n",
    "#how to get a list, sorted in increasing order by the last element in each tuple, from a given list of non-empty tuples.\n",
    "#are there keys in tuples python\n",
    "\n",
    "def takeSecond(elem):\n",
    "    return elem[1]\n",
    "random = [(1, 3), (3, 2), (2, 1)]\n",
    "random.sort(key=takeSecond)\n",
    "print('Sorted list:', random)"
   ]
  },
  {
   "cell_type": "code",
   "execution_count": null,
   "id": "c997907e",
   "metadata": {},
   "outputs": [],
   "source": [
    "#ex2\n",
    "#sort() function is very similar to sorted() \n",
    "#but unlike sorted it returns nothing and makes changes to the original sequence.\n",
    "#Moreover, sort() is a method of list class and can only be used with lists."
   ]
  },
  {
   "cell_type": "code",
   "execution_count": 14,
   "id": "07f3922f",
   "metadata": {},
   "outputs": [
    {
     "name": "stdout",
     "output_type": "stream",
     "text": [
      "Counter({'a': 400, 'b': 400, 'd': 400, 'c': 300})\n"
     ]
    }
   ],
   "source": [
    "#ex3\n",
    "#GOOGLE QUESTION/\n",
    "#how can we combine two dictionaries by adding values for common keys.\n",
    "from collections import Counter\n",
    "d1 = {'a': 100, 'b': 200, 'c':300}\n",
    "d2 = {'a': 300, 'b': 200, 'd':400}\n",
    "Cdict = Counter(d1) + Counter(d2)\n",
    "print(Cdict)"
   ]
  },
  {
   "cell_type": "code",
   "execution_count": 22,
   "id": "5d9d1d12",
   "metadata": {},
   "outputs": [
    {
     "name": "stdout",
     "output_type": "stream",
     "text": [
      "[('item3', '24.5'), ('item2', '15.10'), ('item1', '12.20')]\n"
     ]
    }
   ],
   "source": [
    "#ex4\n",
    "#lambda is useful when a function requires another function as its argument \n",
    "#lambda argument(s): expression\n",
    "#remainder = lambda num: num % 2\n",
    "#GOOGLE QUESTION/\n",
    "#how to sort a tuple by its float element\n",
    "def tuplesort(A):\n",
    "    return(sorted(A, key = lambda x: float(x[1]), reverse = True))\n",
    "A=[('item1', '12.20'), ('item2', '15.10'), ('item3', '24.5')]\n",
    "print(tuplesort(A))"
   ]
  },
  {
   "cell_type": "code",
   "execution_count": null,
   "id": "ef481888",
   "metadata": {},
   "outputs": [],
   "source": [
    "#Question 5\n",
    "\n",
    "#Write a program to sort a tuple by its float element.\n",
    "\n",
    "#For example: list= [('item1', '12.20'), ('item2', '15.10'), ('item3', '24.5')]\n",
    "\n",
    "#Expected result: [('item3', '24.5'), ('item2', '15.10'), ('item1', '12.20')]"
   ]
  }
 ],
 "metadata": {
  "kernelspec": {
   "display_name": "Python 3 (ipykernel)",
   "language": "python",
   "name": "python3"
  },
  "language_info": {
   "codemirror_mode": {
    "name": "ipython",
    "version": 3
   },
   "file_extension": ".py",
   "mimetype": "text/x-python",
   "name": "python",
   "nbconvert_exporter": "python",
   "pygments_lexer": "ipython3",
   "version": "3.9.12"
  }
 },
 "nbformat": 4,
 "nbformat_minor": 5
}
