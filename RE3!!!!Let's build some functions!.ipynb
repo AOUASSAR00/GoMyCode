{
 "cells": [
  {
   "cell_type": "code",
   "execution_count": 1,
   "id": "95c0f187",
   "metadata": {},
   "outputs": [
    {
     "name": "stdout",
     "output_type": "stream",
     "text": [
      "35\n"
     ]
    }
   ],
   "source": [
    "#ex1\n",
    "def largest (a,b,c):\n",
    "    if a>=b and a>=c:\n",
    "        print(a)\n",
    "    elif b>=a and b>=c:\n",
    "        print(b)\n",
    "    else:\n",
    "        print(c)\n",
    "largest(20,35,19)\n"
   ]
  },
  {
   "cell_type": "code",
   "execution_count": 3,
   "id": "b312afa7",
   "metadata": {},
   "outputs": [
    {
     "name": "stdout",
     "output_type": "stream",
     "text": [
      "35\n"
     ]
    }
   ],
   "source": [
    "#ex1\n",
    "def maximum(a, b, c):\n",
    "  \n",
    "    if (a >= b) and (a >= c):\n",
    "        largest = a\n",
    "  \n",
    "    elif (b >= a) and (b >= c):\n",
    "        largest = b\n",
    "    else:\n",
    "        largest = c\n",
    "          \n",
    "    return largest\n",
    "a = 20\n",
    "b = 35\n",
    "c = 19\n",
    "print(maximum(a, b, c))"
   ]
  },
  {
   "cell_type": "code",
   "execution_count": 5,
   "id": "e76f54c1",
   "metadata": {},
   "outputs": [
    {
     "data": {
      "text/plain": [
       "(50, 30)"
      ]
     },
     "execution_count": 5,
     "metadata": {},
     "output_type": "execute_result"
    }
   ],
   "source": [
    "#ex2\n",
    "#Write a function calculation() so it can accept two variables and calculate the addition and subtraction of them.\n",
    "#It must return both addition and subtraction in a single return call.\n",
    "#For example:\n",
    "#calculation(40, 10) should produce 50, 30\n",
    "\n",
    "def calculation(a,b):\n",
    "    addsub=(a+b,a-b)\n",
    "    return addsub\n",
    "calculation(40,10)"
   ]
  },
  {
   "cell_type": "code",
   "execution_count": 4,
   "id": "324ac1ca",
   "metadata": {},
   "outputs": [
    {
     "data": {
      "text/plain": [
       "(6, 0.6666666666666666)"
      ]
     },
     "execution_count": 4,
     "metadata": {},
     "output_type": "execute_result"
    }
   ],
   "source": [
    "#ex2\n",
    "def calculation(a,b):\n",
    "    resultat = (a*b,a/b)\n",
    "    return resultat\n",
    "calculation(2,3)"
   ]
  },
  {
   "cell_type": "code",
   "execution_count": 1,
   "id": "3fc6108b",
   "metadata": {},
   "outputs": [
    {
     "data": {
      "text/plain": [
       "(13, 21)"
      ]
     },
     "execution_count": 1,
     "metadata": {},
     "output_type": "execute_result"
    }
   ],
   "source": [
    "#ex3\n",
    "#Question 3\n",
    "\n",
    "liste=[3,4,5]\n",
    "def sums(liste):\n",
    "    plus=0\n",
    "    for i in liste:\n",
    "        plus=plus+i\n",
    "    return plus\n",
    "def mults(liste):\n",
    "    times=1\n",
    "    for i in liste:\n",
    "        times=times*i\n",
    "    return times\n",
    "\n",
    "def twofuctions(liste):\n",
    "    l1=[]\n",
    "    l2=[]\n",
    "    for i in range(len(liste)):\n",
    "        if i%2==0:\n",
    "            l1.append(liste[i])\n",
    "        else:\n",
    "            l2.append(liste[i])\n",
    "    res1 = sums(l1)\n",
    "    res2 = mults(l2)\n",
    "    return (res1,res2)\n",
    "twofuctions([2,3,8,7,3])\n",
    "#Use the two functions to sum the elements whose position is an even number (0,2,4…) and multiply the rest."
   ]
  },
  {
   "cell_type": "code",
   "execution_count": null,
   "id": "ad1f2a9b",
   "metadata": {},
   "outputs": [],
   "source": [
    "#ex4\n",
    "words=str(input(\"enter a hyphen-separated sequence of words: \"))\n",
    "sorting=sorted(words)\n",
    "print(sorting)\n",
    "txt=sorting.split()\n",
    "print(txt)\n"
   ]
  },
  {
   "cell_type": "code",
   "execution_count": null,
   "id": "533dde8e",
   "metadata": {},
   "outputs": [],
   "source": [
    "#ex4\n",
    "items=[str(n) for n in input().split('-')]\n",
    "items.sort()\n",
    "print('-'.join(items))"
   ]
  },
  {
   "cell_type": "code",
   "execution_count": null,
   "id": "4c349559",
   "metadata": {},
   "outputs": [],
   "source": []
  }
 ],
 "metadata": {
  "kernelspec": {
   "display_name": "Python 3 (ipykernel)",
   "language": "python",
   "name": "python3"
  },
  "language_info": {
   "codemirror_mode": {
    "name": "ipython",
    "version": 3
   },
   "file_extension": ".py",
   "mimetype": "text/x-python",
   "name": "python",
   "nbconvert_exporter": "python",
   "pygments_lexer": "ipython3",
   "version": "3.9.12"
  }
 },
 "nbformat": 4,
 "nbformat_minor": 5
}
