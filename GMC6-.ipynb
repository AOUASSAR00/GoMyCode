{
 "cells": [
  {
   "cell_type": "code",
   "execution_count": null,
   "id": "d2f6ee51",
   "metadata": {},
   "outputs": [],
   "source": [
    "import pandas as pd"
   ]
  },
  {
   "cell_type": "code",
   "execution_count": null,
   "id": "4b4c80bf",
   "metadata": {},
   "outputs": [],
   "source": [
    "df = pd.read_csv('titanic-passengers.csv', sep=\";\")\n",
    "df"
   ]
  },
  {
   "cell_type": "code",
   "execution_count": null,
   "id": "1b19bc54",
   "metadata": {},
   "outputs": [],
   "source": [
    "df.info()"
   ]
  },
  {
   "cell_type": "code",
   "execution_count": null,
   "id": "8caccdd0",
   "metadata": {},
   "outputs": [],
   "source": [
    "df['Age']=df['Age'].fillna(df['Age'].mean())"
   ]
  },
  {
   "cell_type": "code",
   "execution_count": null,
   "id": "30305309",
   "metadata": {},
   "outputs": [],
   "source": [
    "df"
   ]
  },
  {
   "cell_type": "code",
   "execution_count": null,
   "id": "843b3475",
   "metadata": {},
   "outputs": [],
   "source": [
    "#drop the whole column\n",
    "df = df.drop('Cabin', axis=1)\n",
    "#drop the rows where Embarked is Nan\n",
    "df = df.dropna(subset=['Embarked'], axis=0)"
   ]
  },
  {
   "cell_type": "code",
   "execution_count": null,
   "id": "538d30ad",
   "metadata": {},
   "outputs": [],
   "source": [
    "df.info()"
   ]
  },
  {
   "cell_type": "code",
   "execution_count": null,
   "id": "e56d18e8",
   "metadata": {},
   "outputs": [],
   "source": [
    "df['Survived'] = df['Survived'].replace({\"No\": 0, \"Yes\": 1})\n",
    "#labelencoder __controlled the values of labels "
   ]
  },
  {
   "cell_type": "code",
   "execution_count": null,
   "id": "3a0e4ae3",
   "metadata": {},
   "outputs": [],
   "source": [
    "#import/build/fit and transform<train\n",
    "from sklearn.preprocessing import LabelEncoder\n",
    "le_sex = LabelEncoder()\n",
    "df['Sex'] = le_sex.fit_transform(df['Sex'])\n",
    "#labelencoder __auto labeled\n",
    "print(le_sex.classes_)\n",
    "#auto labels recognition"
   ]
  },
  {
   "cell_type": "code",
   "execution_count": null,
   "id": "9e7f30d8",
   "metadata": {},
   "outputs": [],
   "source": [
    "le_embarked = LabelEncoder()\n",
    "df['Embarked'] = le_embarked.fit_transform(df['Embarked'])"
   ]
  },
  {
   "cell_type": "code",
   "execution_count": null,
   "id": "df991b82",
   "metadata": {},
   "outputs": [],
   "source": [
    "#object drop\n",
    "df = df.drop(['Name','Ticket'], axis=1)"
   ]
  },
  {
   "cell_type": "code",
   "execution_count": null,
   "id": "d596be30",
   "metadata": {},
   "outputs": [],
   "source": [
    "#useless column\n",
    "df = df.drop('PassengerId', axis=1)"
   ]
  },
  {
   "cell_type": "code",
   "execution_count": null,
   "id": "aef2f7be",
   "metadata": {},
   "outputs": [],
   "source": [
    "df.info()"
   ]
  },
  {
   "cell_type": "code",
   "execution_count": null,
   "id": "17562f64",
   "metadata": {},
   "outputs": [],
   "source": [
    "#split\n",
    "from sklearn.model_selection import train_test_split\n",
    "\n",
    "X = df.drop('Survived', axis=1)\n",
    "Y = df['Survived']\n",
    "\n",
    "X_train, X_test, Y_train, Y_test = train_test_split(X, Y, test_size=0.2, stratify=Y)"
   ]
  },
  {
   "cell_type": "code",
   "execution_count": null,
   "id": "d7eef577",
   "metadata": {},
   "outputs": [],
   "source": [
    "#modeling parametric\n",
    "from sklearn.linear_model import LogisticRegression\n",
    "model = LogisticRegression(max_iter=1000)\n",
    "model.fit(X_train, Y_train)\n",
    "#import<build<fit"
   ]
  },
  {
   "cell_type": "code",
   "execution_count": null,
   "id": "9972a619",
   "metadata": {},
   "outputs": [],
   "source": [
    "#test\n",
    "from sklearn.metrics import *\n",
    "Y_pred = model.predict(X_test)\n",
    "clf_rep = classification_report(Y_test, Y_pred)\n",
    "print(clf_rep)\n",
    "#import<predict<compare"
   ]
  },
  {
   "cell_type": "code",
   "execution_count": null,
   "id": "3e69069e",
   "metadata": {},
   "outputs": [],
   "source": [
    "#modeling knn\n",
    "from sklearn.neighbors import KNeighborsClassifier\n",
    "model = KNeighborsClassifier(n_neighbors=7)\n",
    "#k<5\n",
    "model.fit(X_train, Y_train)\n",
    "#import<build<fit"
   ]
  },
  {
   "cell_type": "code",
   "execution_count": null,
   "id": "8cf61dd3",
   "metadata": {},
   "outputs": [],
   "source": [
    "#test\n",
    "from sklearn.metrics import *\n",
    "Y_pred = model.predict(X_test)\n",
    "clf_rep = classification_report(Y_test, Y_pred)\n",
    "print(clf_rep)\n",
    "#import<predict<compare"
   ]
  },
  {
   "cell_type": "code",
   "execution_count": null,
   "id": "ab0301cf",
   "metadata": {},
   "outputs": [],
   "source": [
    "#scrapped data to csv\n",
    "import numpy as np\n",
    "scraped_data = [np.random.uniform((-1, 0, 1)) for _ in range(100)]\n",
    "pd.DataFrame(scraped_data).to_csv('result.csv', index=False)"
   ]
  },
  {
   "cell_type": "code",
   "execution_count": null,
   "id": "0fbeb8ce",
   "metadata": {},
   "outputs": [],
   "source": []
  },
  {
   "cell_type": "code",
   "execution_count": null,
   "id": "a3197188",
   "metadata": {},
   "outputs": [],
   "source": []
  },
  {
   "cell_type": "code",
   "execution_count": null,
   "id": "8bd57d8b",
   "metadata": {},
   "outputs": [],
   "source": []
  },
  {
   "cell_type": "code",
   "execution_count": null,
   "id": "f9e085fe",
   "metadata": {},
   "outputs": [],
   "source": []
  },
  {
   "cell_type": "code",
   "execution_count": null,
   "id": "6b84c007",
   "metadata": {},
   "outputs": [],
   "source": []
  },
  {
   "cell_type": "code",
   "execution_count": null,
   "id": "729071ce",
   "metadata": {},
   "outputs": [],
   "source": []
  }
 ],
 "metadata": {
  "kernelspec": {
   "display_name": "Python 3 (ipykernel)",
   "language": "python",
   "name": "python3"
  },
  "language_info": {
   "codemirror_mode": {
    "name": "ipython",
    "version": 3
   },
   "file_extension": ".py",
   "mimetype": "text/x-python",
   "name": "python",
   "nbconvert_exporter": "python",
   "pygments_lexer": "ipython3",
   "version": "3.9.12"
  }
 },
 "nbformat": 4,
 "nbformat_minor": 5
}
