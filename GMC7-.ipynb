{
 "cells": [
  {
   "cell_type": "code",
   "execution_count": null,
   "id": "af5383af",
   "metadata": {},
   "outputs": [],
   "source": [
    "import pandas as pd\n",
    "from sklearn.metrics import *\n",
    "import matplotlib.pyplot as plt"
   ]
  },
  {
   "cell_type": "code",
   "execution_count": null,
   "id": "00d5f64c",
   "metadata": {},
   "outputs": [],
   "source": [
    "df = pd.read_csv('titanic-passengers.csv', sep=\";\")\n",
    "df"
   ]
  },
  {
   "cell_type": "code",
   "execution_count": null,
   "id": "eb1662cb",
   "metadata": {},
   "outputs": [],
   "source": [
    "df.info()"
   ]
  },
  {
   "cell_type": "code",
   "execution_count": null,
   "id": "d836f331",
   "metadata": {},
   "outputs": [],
   "source": [
    "df['Age']=df['Age'].fillna(df['Age'].mean())"
   ]
  },
  {
   "cell_type": "code",
   "execution_count": null,
   "id": "9d5b6e24",
   "metadata": {},
   "outputs": [],
   "source": [
    "df"
   ]
  },
  {
   "cell_type": "code",
   "execution_count": null,
   "id": "0495fd68",
   "metadata": {},
   "outputs": [],
   "source": [
    "#drop the whole column\n",
    "df = df.drop('Cabin', axis=1)\n",
    "#drop the rows where Embarked is Nan\n",
    "df = df.dropna(subset=['Embarked'], axis=0)"
   ]
  },
  {
   "cell_type": "code",
   "execution_count": null,
   "id": "fb2a7cef",
   "metadata": {},
   "outputs": [],
   "source": [
    "df.info()"
   ]
  },
  {
   "cell_type": "code",
   "execution_count": null,
   "id": "fcc1418b",
   "metadata": {},
   "outputs": [],
   "source": [
    "df['Survived'] = df['Survived'].replace({\"No\": 0, \"Yes\": 1})\n",
    "#labelencoder __controlled the values of labels "
   ]
  },
  {
   "cell_type": "code",
   "execution_count": null,
   "id": "081807c4",
   "metadata": {},
   "outputs": [],
   "source": [
    "#import/build/fit and transform<train\n",
    "from sklearn.preprocessing import LabelEncoder\n",
    "le_sex = LabelEncoder()\n",
    "df['Sex'] = le_sex.fit_transform(df['Sex'])\n",
    "#labelencoder __auto labeled\n",
    "print(le_sex.classes_)\n",
    "#auto labels recognition"
   ]
  },
  {
   "cell_type": "code",
   "execution_count": null,
   "id": "a5adbbb3",
   "metadata": {},
   "outputs": [],
   "source": [
    "le_embarked = LabelEncoder()\n",
    "df['Embarked'] = le_embarked.fit_transform(df['Embarked'])"
   ]
  },
  {
   "cell_type": "code",
   "execution_count": null,
   "id": "e375b162",
   "metadata": {},
   "outputs": [],
   "source": [
    "#object drop\n",
    "df = df.drop(['Name','Ticket'], axis=1)"
   ]
  },
  {
   "cell_type": "code",
   "execution_count": null,
   "id": "5b00c6b5",
   "metadata": {},
   "outputs": [],
   "source": [
    "#useless column\n",
    "df = df.drop('PassengerId', axis=1)"
   ]
  },
  {
   "cell_type": "code",
   "execution_count": null,
   "id": "1ae69403",
   "metadata": {},
   "outputs": [],
   "source": [
    "df.info()"
   ]
  },
  {
   "cell_type": "code",
   "execution_count": null,
   "id": "37c1a221",
   "metadata": {},
   "outputs": [],
   "source": [
    "#split\n",
    "from sklearn.model_selection import train_test_split\n",
    "\n",
    "X = df.drop('Survived', axis=1)\n",
    "Y = df['Survived']\n",
    "\n",
    "X_train, X_test, Y_train, Y_test = train_test_split(X, Y, test_size=0.2, stratify=Y)"
   ]
  },
  {
   "cell_type": "code",
   "execution_count": null,
   "id": "54f43864",
   "metadata": {},
   "outputs": [],
   "source": [
    "#modeling parametric\n",
    "from sklearn.linear_model import LogisticRegression\n",
    "model = LogisticRegression(max_iter=1000)\n",
    "model.fit(X_train, Y_train)\n",
    "#import<build<fit"
   ]
  },
  {
   "cell_type": "code",
   "execution_count": null,
   "id": "e1c287b9",
   "metadata": {},
   "outputs": [],
   "source": [
    "#test\n",
    "Y_pred = model.predict(X_test)\n",
    "clf_rep = classification_report(Y_test, Y_pred)\n",
    "print(clf_rep)\n",
    "#import<predict<compare"
   ]
  },
  {
   "cell_type": "code",
   "execution_count": null,
   "id": "b2b7fdd0",
   "metadata": {},
   "outputs": [],
   "source": [
    "#modeling knn\n",
    "from sklearn.neighbors import KNeighborsClassifier\n",
    "model = KNeighborsClassifier(n_neighbors=7)\n",
    "#k<5\n",
    "model.fit(X_train, Y_train)\n",
    "#import<build<fit"
   ]
  },
  {
   "cell_type": "code",
   "execution_count": null,
   "id": "5aab2ed1",
   "metadata": {},
   "outputs": [],
   "source": [
    "#test\n",
    "Y_pred = model.predict(X_test)\n",
    "clf_rep = classification_report(Y_test, Y_pred)\n",
    "print(clf_rep)\n",
    "#import<predict<compare"
   ]
  },
  {
   "cell_type": "code",
   "execution_count": null,
   "id": "59b13031",
   "metadata": {},
   "outputs": [],
   "source": [
    "#decision tree\n",
    "from sklearn.tree import DecisionTreeClassifier, plot_tree\n",
    "model = DecisionTreeClassifier()  \n",
    "model.fit(X_train, Y_train)   #fitting our model\n"
   ]
  },
  {
   "cell_type": "code",
   "execution_count": null,
   "id": "95af1133",
   "metadata": {},
   "outputs": [],
   "source": [
    "#test\n",
    "Y_pred = model.predict(X_test)\n",
    "clf_rep = classification_report(Y_test, Y_pred)\n",
    "print(clf_rep)\n",
    "#import<predict<compare"
   ]
  },
  {
   "cell_type": "code",
   "execution_count": null,
   "id": "649b5593",
   "metadata": {},
   "outputs": [],
   "source": [
    "plt.figure(figsize=(16, 16))\n",
    "tree_plot = plot_tree(model)"
   ]
  },
  {
   "cell_type": "code",
   "execution_count": null,
   "id": "27a82dfc",
   "metadata": {},
   "outputs": [],
   "source": [
    "model2 = DecisionTreeClassifier(criterion='gini', max_depth=5, max_leaf_nodes=10, min_samples_leaf=5) \n",
    "model2.fit(X_train, Y_train) "
   ]
  },
  {
   "cell_type": "code",
   "execution_count": null,
   "id": "c8017422",
   "metadata": {},
   "outputs": [],
   "source": [
    "#test\n",
    "Y_pred = model2.predict(X_test)\n",
    "clf_rep = classification_report(Y_test, Y_pred)\n",
    "print(clf_rep)\n",
    "#import<predict<compare"
   ]
  },
  {
   "cell_type": "code",
   "execution_count": null,
   "id": "db58b0fd",
   "metadata": {},
   "outputs": [],
   "source": [
    "plt.figure(figsize=(16, 9))\n",
    "tree_plot = plot_tree(model2, filled=True, feature_names=X_train.columns, class_names=['Died', 'Survived'])"
   ]
  },
  {
   "cell_type": "code",
   "execution_count": null,
   "id": "81e332e8",
   "metadata": {},
   "outputs": [],
   "source": [
    "# dir(plt)\n",
    "# #Shows you what's in plt (functions)"
   ]
  },
  {
   "cell_type": "code",
   "execution_count": null,
   "id": "c0d2f1b1",
   "metadata": {},
   "outputs": [],
   "source": [
    "#random forest\n",
    "from sklearn.ensemble import RandomForestClassifier \n",
    "#methode ensembliste\n",
    "model = RandomForestClassifier()  \n",
    "model.fit(X_train, Y_train)   #fitting our model\n"
   ]
  },
  {
   "cell_type": "code",
   "execution_count": null,
   "id": "87b70d5b",
   "metadata": {},
   "outputs": [],
   "source": [
    "#test\n",
    "Y_pred = model.predict(X_test)\n",
    "clf_rep = classification_report(Y_test, Y_pred)\n",
    "print(clf_rep)\n",
    "#import<predict<compare"
   ]
  },
  {
   "cell_type": "code",
   "execution_count": null,
   "id": "131ebea5",
   "metadata": {},
   "outputs": [],
   "source": [
    "#bagging\n",
    "from sklearn.ensemble import BaggingClassifier \n",
    "#methode ensembliste\n",
    "model = BaggingClassifier(base_estimator=KNeighborsClassifier(7))  \n",
    "model.fit(X_train, Y_train)   #fitting our model"
   ]
  },
  {
   "cell_type": "code",
   "execution_count": null,
   "id": "620557ec",
   "metadata": {},
   "outputs": [],
   "source": [
    "#test\n",
    "Y_pred = model.predict(X_test)\n",
    "clf_rep = classification_report(Y_test, Y_pred)\n",
    "print(clf_rep)\n",
    "#import<predict<compare"
   ]
  },
  {
   "cell_type": "code",
   "execution_count": null,
   "id": "b8b4e5ce",
   "metadata": {},
   "outputs": [],
   "source": []
  },
  {
   "cell_type": "code",
   "execution_count": null,
   "id": "98b148a5",
   "metadata": {},
   "outputs": [],
   "source": []
  },
  {
   "cell_type": "code",
   "execution_count": null,
   "id": "46686906",
   "metadata": {},
   "outputs": [],
   "source": []
  }
 ],
 "metadata": {
  "kernelspec": {
   "display_name": "Python 3 (ipykernel)",
   "language": "python",
   "name": "python3"
  },
  "language_info": {
   "codemirror_mode": {
    "name": "ipython",
    "version": 3
   },
   "file_extension": ".py",
   "mimetype": "text/x-python",
   "name": "python",
   "nbconvert_exporter": "python",
   "pygments_lexer": "ipython3",
   "version": "3.9.12"
  }
 },
 "nbformat": 4,
 "nbformat_minor": 5
}
