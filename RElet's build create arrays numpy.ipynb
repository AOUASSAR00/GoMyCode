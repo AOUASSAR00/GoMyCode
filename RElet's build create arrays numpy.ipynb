{
 "cells": [
  {
   "cell_type": "code",
   "execution_count": 14,
   "id": "b38abcb9",
   "metadata": {},
   "outputs": [
    {
     "data": {
      "text/plain": [
       "[1, 2, 3]"
      ]
     },
     "execution_count": 14,
     "metadata": {},
     "output_type": "execute_result"
    }
   ],
   "source": [
    "#ex1\n",
    "import numpy as np\n",
    "a= np.array( [1,2,3])\n",
    "a #array([1, 2, 3])\n",
    "list= a.tolist()\n",
    "list"
   ]
  },
  {
   "cell_type": "code",
   "execution_count": 18,
   "id": "cc50ed0f",
   "metadata": {},
   "outputs": [
    {
     "data": {
      "text/plain": [
       "55"
      ]
     },
     "execution_count": 18,
     "metadata": {},
     "output_type": "execute_result"
    }
   ],
   "source": [
    "#ex2\n",
    "a= np.array([[11,22],[33,44]])\n",
    "a\n",
    "trace= a.trace()\n",
    "trace"
   ]
  },
  {
   "cell_type": "code",
   "execution_count": 29,
   "id": "fd27a3c2",
   "metadata": {},
   "outputs": [
    {
     "data": {
      "text/plain": [
       "array([3, 5])"
      ]
     },
     "execution_count": 29,
     "metadata": {},
     "output_type": "execute_result"
    }
   ],
   "source": [
    "#ex3\n",
    "a=np.array([[1,2],[3,5]])\n",
    "a[a>2]"
   ]
  },
  {
   "cell_type": "code",
   "execution_count": 30,
   "id": "c5472d11",
   "metadata": {},
   "outputs": [
    {
     "name": "stdout",
     "output_type": "stream",
     "text": [
      "[3 5]\n"
     ]
    }
   ],
   "source": [
    "a=np.array([[1,2],[3,5]])\n",
    "print(a[a>2])"
   ]
  },
  {
   "cell_type": "code",
   "execution_count": 32,
   "id": "e4111b9a",
   "metadata": {},
   "outputs": [
    {
     "data": {
      "text/plain": [
       "array([[ 8, 10, 12],\n",
       "       [14, 16, 18]])"
      ]
     },
     "execution_count": 32,
     "metadata": {},
     "output_type": "execute_result"
    }
   ],
   "source": [
    "#ex4\n",
    "A= np.array([[1,2,3],[4,5,6]])\n",
    "B= np.array([[7,8,9],[10,11,12]])\n",
    "C= A+B\n",
    "C"
   ]
  },
  {
   "cell_type": "code",
   "execution_count": 33,
   "id": "8935ae08",
   "metadata": {},
   "outputs": [
    {
     "name": "stdout",
     "output_type": "stream",
     "text": [
      "[[0.12228798 0.18236917 0.60994442 0.26769844 0.48550114 0.3899901\n",
      "  0.82832861 0.89432519 0.69862187 0.39705916]\n",
      " [0.81954677 0.10372987 0.38021242 0.54542766 0.7344496  0.24121814\n",
      "  0.42042704 0.76947296 0.0312396  0.74028378]\n",
      " [0.58332247 0.02044018 0.07165069 0.17152633 0.84466123 0.70016231\n",
      "  0.21126672 0.30516169 0.22425694 0.70292914]\n",
      " [0.36136911 0.58992875 0.8650526  0.67075379 0.2995353  0.40660839\n",
      "  0.89410559 0.53668385 0.83695059 0.54222874]\n",
      " [0.31787674 0.31761665 0.70882277 0.02056771 0.20572493 0.69414691\n",
      "  0.23029832 0.10930371 0.75189998 0.67530016]]\n",
      "[[-0.36532463 -0.30524344  0.12233181 -0.21991416 -0.00211147 -0.09762251\n",
      "   0.340716    0.40671258  0.21100927 -0.09055345]\n",
      " [ 0.34094598 -0.37487092 -0.09838837  0.06682688  0.25584881 -0.23738265\n",
      "  -0.05817375  0.29087218 -0.44736118  0.261683  ]\n",
      " [ 0.1997847  -0.36309759 -0.31188708 -0.21201144  0.46112346  0.31662454\n",
      "  -0.17227105 -0.07837608 -0.15928083  0.31939137]\n",
      " [-0.23895256 -0.01039292  0.26473093  0.07043212 -0.30078638 -0.19371328\n",
      "   0.29378392 -0.06363782  0.23662892 -0.05809293]\n",
      " [-0.08527905 -0.08553914  0.30566699 -0.38258808 -0.19743086  0.29099112\n",
      "  -0.17285747 -0.29385208  0.3487442   0.27214438]]\n"
     ]
    }
   ],
   "source": [
    "#ex5\n",
    "a = np.random.rand(5, 10)\n",
    "print(a)\n",
    "b = a - a.mean(axis=1, keepdims=True)\n",
    "print(b)\n"
   ]
  },
  {
   "cell_type": "code",
   "execution_count": null,
   "id": "84e1dcbd",
   "metadata": {},
   "outputs": [],
   "source": []
  }
 ],
 "metadata": {
  "kernelspec": {
   "display_name": "Python 3 (ipykernel)",
   "language": "python",
   "name": "python3"
  },
  "language_info": {
   "codemirror_mode": {
    "name": "ipython",
    "version": 3
   },
   "file_extension": ".py",
   "mimetype": "text/x-python",
   "name": "python",
   "nbconvert_exporter": "python",
   "pygments_lexer": "ipython3",
   "version": "3.9.12"
  }
 },
 "nbformat": 4,
 "nbformat_minor": 5
}
