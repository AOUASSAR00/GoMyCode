{
 "cells": [
  {
   "cell_type": "code",
   "execution_count": 43,
   "id": "4145c4cf",
   "metadata": {
    "scrolled": true
   },
   "outputs": [],
   "source": [
    "#Write a Pandas program to create and display a DataFrame from the following dictionary data with index labels.\n",
    "import pandas as pd\n",
    "import numpy as np\n",
    "\n",
    "exam_data = {'name': ['Anastasia', 'Dima', 'Katherine', 'James', 'Emily',\n",
    "                      'Michael', 'Matthew', 'Laura', 'Kevin', 'Jonas'],\n",
    "            'score': [12.5, 9, 16.5, np.nan, 9, 20, 14.5, np.nan, 8, 19],\n",
    "            'attempts': [1, 3, 2, 3, 2, 3, 1, 1, 2, 1],\n",
    "            'qualify': ['yes', 'no', 'yes', 'no', 'no', 'yes', 'yes', 'no', 'no', 'yes']}\n",
    "labels = ['a', 'b', 'c', 'd', 'e', 'f', 'g', 'h', 'i', 'j']\n",
    "\n",
    "#df=pd.DataFrame(exam_data,index=labels)\n",
    "#print(df)\n",
    "#print(df.head(3))\n",
    "#df1=df.dropna().reset_index(drop=True)\n",
    "#print(df1)\n",
    "\n",
    "#df2=df[['name','score']]\n",
    "#df2\n",
    "\n",
    "#df3=pd.DataFrame({\"name\": [\"Suresh\"], \"score\": [15.5], \"attempts\": [1], \"qualify\": [\"yes\"]},index=[\"k\"])\n",
    "#df=pd.concat([df,df3],axis=0)\n",
    "#print(df)\n",
    "\n",
    "\n",
    "#!!!!!!!!!!!\n",
    "\n",
    "#!!!!!!!!!!!IF I USE THIS INSTEAD ->df3=pd.DataFrame({\"name\": [\"Suresh\"], \"score\": [15.5], \"attempts\": [1], \"qualify\": [\"yes\"]},index=[\"id\"])\n",
    "#output\n",
    "#    name  score  attempts qualify\n",
    "#a   Anastasia   12.5         1     yes\n",
    "#b        Dima    9.0         3      no\n",
    "#c   Katherine   16.5         2     yes\n",
    "#d       James    NaN         3      no\n",
    "#e       Emily    9.0         2      no\n",
    "#f     Michael   20.0         3     yes\n",
    "#g     Matthew   14.5         1     yes\n",
    "#h       Laura    NaN         1      no\n",
    "#i       Kevin    8.0         2      no\n",
    "#j       Jonas   19.0         1     yes\n",
    "#k      Suresh   15.5         1     yes\n",
    "#id     Suresh   15.5         1     yes\n",
    "#!!!!!!NOTICE THE LAST LINE=INDEX\n",
    "\n",
    "#!!!!!!!\n",
    "\n",
    "#del exam_data['attempts']\n",
    "#print(exam_data)\n",
    "\n",
    "#rating = []\n",
    "#for row in df['score']:\n",
    "#    if row > 10 :    \n",
    " #       rating.append(1)\n",
    "  #  else:           \n",
    "   #     rating.append(0)\n",
    "#DONE Print the three first rows using the head() method.\n",
    "#DONE Delete rows with Nan values.\n",
    "#DONE Extract the 'name' and 'score' columns from the DataFrame.\n",
    "#DONE Write a Pandas program to append a new row 'k' to the DataFrame with these values (name: \"Suresh\", score: 15.5, attempts: 1, qualify: \"yes\").\n",
    "#DONE Write a Pandas program to delete the 'attempts' column from the DataFrame.\n",
    "\n",
    "#Add a new column \"Success\": if the score is higher than 10 we will have 1, else we will have 0.\n",
    "#df.to_csv('exam_data.csv')\n",
    "#After executing the final DataFrame, export it into a CSV file named \"my_data\".\n"
   ]
  },
  {
   "cell_type": "code",
   "execution_count": null,
   "id": "09e4645b",
   "metadata": {},
   "outputs": [],
   "source": [
    "df=pd.DataFrame(exam_data,index=labels)\n",
    "print(df)\n",
    "print(df.head(3))\n",
    "df1=df.dropna().reset_index(drop=True)\n",
    "print(df1)"
   ]
  },
  {
   "cell_type": "code",
   "execution_count": null,
   "id": "986d5df4",
   "metadata": {},
   "outputs": [],
   "source": [
    "df2=df[['name','score']]\n",
    "df2"
   ]
  },
  {
   "cell_type": "code",
   "execution_count": null,
   "id": "a0d61a87",
   "metadata": {},
   "outputs": [],
   "source": [
    "df3=pd.DataFrame({\"name\": [\"Suresh\"], \"score\": [15.5], \"attempts\": [1], \"qualify\": [\"yes\"]},index=[\"k\"])\n",
    "df=pd.concat([df,df3],axis=0)\n",
    "print(df)"
   ]
  },
  {
   "cell_type": "code",
   "execution_count": null,
   "id": "5d3ee3cb",
   "metadata": {},
   "outputs": [],
   "source": [
    "del exam_data['attempts']\n",
    "print(exam_data)"
   ]
  },
  {
   "cell_type": "code",
   "execution_count": null,
   "id": "5702f15f",
   "metadata": {},
   "outputs": [],
   "source": [
    "rating = []\n",
    "for row in df['score']:\n",
    "    if row > 10 :    \n",
    "        rating.append(1)\n",
    "    else:           \n",
    "        rating.append(0)"
   ]
  },
  {
   "cell_type": "code",
   "execution_count": null,
   "id": "dff5c141",
   "metadata": {},
   "outputs": [],
   "source": [
    "df.to_csv('exam_data.csv')"
   ]
  }
 ],
 "metadata": {
  "kernelspec": {
   "display_name": "Python 3 (ipykernel)",
   "language": "python",
   "name": "python3"
  },
  "language_info": {
   "codemirror_mode": {
    "name": "ipython",
    "version": 3
   },
   "file_extension": ".py",
   "mimetype": "text/x-python",
   "name": "python",
   "nbconvert_exporter": "python",
   "pygments_lexer": "ipython3",
   "version": "3.9.12"
  }
 },
 "nbformat": 4,
 "nbformat_minor": 5
}
